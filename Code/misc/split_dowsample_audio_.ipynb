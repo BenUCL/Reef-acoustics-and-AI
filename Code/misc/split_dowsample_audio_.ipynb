{
  "nbformat": 4,
  "nbformat_minor": 0,
  "metadata": {
    "colab": {
      "provenance": [],
      "collapsed_sections": [],
      "mount_file_id": "1org3jmSLiSVJQW4KG9XB9vSkDN3Mwou-",
      "authorship_tag": "ABX9TyPasAwNqZ3SK/TbDynAwDi1",
      "include_colab_link": true
    },
    "kernelspec": {
      "name": "python3",
      "display_name": "Python 3"
    },
    "language_info": {
      "name": "python"
    }
  },
  "cells": [
    {
      "cell_type": "markdown",
      "metadata": {
        "id": "view-in-github",
        "colab_type": "text"
      },
      "source": [
        "<a href=\"https://colab.research.google.com/github/BenUCL/Reef-acoustics-and-AI/blob/main/Code/Splitting_and_dowsampling_audio_files.ipynb\" target=\"_parent\"><img src=\"https://colab.research.google.com/assets/colab-badge.svg\" alt=\"Open In Colab\"/></a>"
      ]
    },
    {
      "cell_type": "markdown",
      "source": [
        "# **Slice up audio files**\n",
        "\n",
        "This script can slice longer files into 1min chunks, downsample if desired (e.g discard 4 mins, keep 1 min), and name them with the correct timestamp. This is done for files with a naming convention set by Lamont (2021) and for data that uses the Soundtrap hydrophone naming convention. This code could be adapted for other naming conventions e.g Hydromoths. This can be run on one file (top) or all files in a folder (bottom).\n",
        "\n",
        "Please cite Williams et al (2023) if you use this code."
      ],
      "metadata": {
        "id": "4IeBl0wwRKJz"
      }
    },
    {
      "cell_type": "code",
      "execution_count": null,
      "metadata": {
        "colab": {
          "base_uri": "https://localhost:8080/"
        },
        "id": "U5KwXm9ZuI8S",
        "outputId": "e20c6304-182d-4c4a-f879-08bba896b7de"
      },
      "outputs": [
        {
          "output_type": "stream",
          "name": "stdout",
          "text": [
            "Collecting pydub\n",
            "  Downloading pydub-0.25.1-py2.py3-none-any.whl (32 kB)\n",
            "Installing collected packages: pydub\n",
            "Successfully installed pydub-0.25.1\n"
          ]
        }
      ],
      "source": [
        "!pip3 install pydub\n",
        "from pydub import AudioSegment\n",
        "import math\n",
        "import pandas as pd\n",
        "from datetime import timedelta\n",
        "import os \n",
        "import glob"
      ]
    },
    {
      "cell_type": "markdown",
      "source": [
        "**Using Lamont (2021) and Williams (2022) naming convention**"
      ],
      "metadata": {
        "id": "AbQYD0JsXEQD"
      }
    },
    {
      "cell_type": "code",
      "source": [
        "#Tims naming convention\n",
        "#class adapted from S/O:\n",
        " #https://stackoverflow.com/questions/37999150/how-to-split-a-wav-file-into-multiple-wav-files\n",
        "\n",
        "class SplitWavAudioMubin():\n",
        "  \"\"\"This class contains functions to split soundtrap .wav files with into seperate files\n",
        "  e.g turn 1hr into 60*1min files. It uses the time held within the original files name \n",
        "  to name the new files accordings.\n",
        "  \n",
        "  Input:\n",
        "  folder = path to the folder with the file to be split\n",
        "  file = the file within the folder to split\n",
        "  export_folder = the folder where the new files will be exported\"\"\"\n",
        "\n",
        "  def __init__(self, folder, filename, export_folder):\n",
        "        self.folder = folder\n",
        "        self.filename = filename\n",
        "        self.export_folder = export_folder\n",
        "        self.filepath = folder + '/' + filename\n",
        "        self.audio = AudioSegment.from_wav(self.filepath)\n",
        "    \n",
        "  def get_duration(self):\n",
        "        return self.audio.duration_seconds\n",
        "    \n",
        "  def single_split(self, from_min, to_min, split_filename):\n",
        "        t1 = from_min * 60 * 1000\n",
        "        t2 = to_min * 60 * 1000\n",
        "        split_audio = self.audio[t1:t2]\n",
        "        #split_audio.export(self.export_folder + '/' + split_filename, format=\"wav\")   #change self.folder to self.export_folder\n",
        "        \n",
        "  def multiple_split(self, min_per_split):\n",
        "        if self.folder == self.export_folder:\n",
        "          print('Export folder must be different to folder')\n",
        "          return None\n",
        "        else:\n",
        "          total_mins = math.ceil(self.get_duration() / 60)\n",
        "          for i in range(0, total_mins, min_per_split):\n",
        "              #Tims naming convention\n",
        "              #filename = 'BaF1.1055H.1678278701.180827.3.35.wav'\n",
        "              #The hour and mins were moved to start and then some stuff added at end, fixing this so each new file is the old name, \n",
        "              #showing start time at end (e.g 1055), and new name is this + T + i mins at the end, so if i = 7 it becomes T1102 at end\n",
        "              \n",
        "              #remove the end bits and put Hr:Min at end\n",
        "              t1 = self.filename.split(\".\")[3] #get hours\n",
        "              t2 = self.filename.split(\".\")[1][0:4] \n",
        "              t = t1+t2\n",
        "\n",
        "              #Get the hour and min of new start time\n",
        "              original_file_start_time = pd.to_datetime(t, format='%y%m%d%H%M')\n",
        "              new_file_start_time = (original_file_start_time + timedelta(minutes=i)).strftime('%H.%M.%S')\n",
        "              hour = new_file_start_time[0:2]\n",
        "              min = new_file_start_time[3:5]\n",
        "              \n",
        "              #Combine the seperate bits to get the new name in full\n",
        "              old_name = self.filename.split(\".\")#[:-4]\n",
        "              new_name = str(old_name[0]) + '.' + str(old_name[1]) + '.' + str(old_name[2] + '.' + t1 + '.NT' + hour + min + '.wav')\n",
        "              print('Creating: ' + new_name)\n",
        "\n",
        "              #execute the single_function\n",
        "              self.single_split(i, i+min_per_split, new_name)    \n",
        "              if i == total_mins - min_per_split:\n",
        "                  print('Splits completed successfully')\n",
        "\n",
        "\n",
        "#Added an additional function to execute the above class on multiple files ina folder\n",
        " #Should probably integrate this into the class but have not done yet\n",
        "def split_multiple_files(folder, export_folder, min_per_split):\n",
        "  \"split all files in a folder into 1min chunks in a different folder\"\n",
        "  print('Found files: ')\n",
        "  os.chdir(folder)\n",
        "  for file in glob.glob(\"*.wav\"):\n",
        "    print(file)\n",
        "  for file in glob.glob(\"*.wav\"):\n",
        "    print('Now splitting: ' + file)\n",
        "    split_wav = SplitWavAudioMubin(folder, file, export_folder)\n",
        "    split_wav.multiple_split(min_per_split=min_per_split)\n",
        "\n"
      ],
      "metadata": {
        "id": "8pHeH_SxNl2s"
      },
      "execution_count": null,
      "outputs": []
    },
    {
      "cell_type": "markdown",
      "source": [
        "# Run the code on just one file"
      ],
      "metadata": {
        "id": "xvv9OdnhXI8C"
      }
    },
    {
      "cell_type": "code",
      "source": [
        "\n",
        "\n",
        "##set these parameters:\n",
        "#folder = r'/content/drive/MyDrive/More audio/tims_naming _convention'\n",
        "#file = 'BaF1.1055H.1678278701.180827.3.35.wav'\n",
        "#export_folder = r'/content/drive/MyDrive/More audio/tims_naming _convention/export_folder' #must be different to folder with original files in\n",
        "#min_per_split = 2\n",
        "\n",
        "##These will then execute:\n",
        "#split_wav = SplitWavAudioMubin(folder, file, export_folder)\n",
        "#split_wav.multiple_split(min_per_split=min_per_split)\n"
      ],
      "metadata": {
        "colab": {
          "base_uri": "https://localhost:8080/"
        },
        "id": "8A7OVZY3ubWl",
        "outputId": "de60b67d-8ace-4401-82d0-1825db6a1cb1"
      },
      "execution_count": null,
      "outputs": [
        {
          "output_type": "stream",
          "name": "stdout",
          "text": [
            "Creating: BaF1.1055H.1678278701.NT1055.wav\n",
            "Creating: BaF1.1055H.1678278701.NT1057.wav\n",
            "Creating: BaF1.1055H.1678278701.NT1059.wav\n",
            "Creating: BaF1.1055H.1678278701.NT1101.wav\n",
            "Creating: BaF1.1055H.1678278701.NT1103.wav\n",
            "Splits completed successfully\n"
          ]
        }
      ]
    },
    {
      "cell_type": "markdown",
      "source": [
        "# Run the code on all files in a folder"
      ],
      "metadata": {
        "id": "RATo3eKYXN88"
      }
    },
    {
      "cell_type": "code",
      "source": [
        "folder = r'/content/drive/MyDrive/More audio/tims_naming _convention' #change\n",
        "export_folder = r'/content/drive/MyDrive/More audio/tims_naming _convention/export_folder' #change\n",
        "min_per_split = 1\n",
        "split_multiple_files(folder, export_folder, min_per_split)\n",
        "\n",
        "#split_wav = SplitWavAudioMubin(folder, file, export_folder)\n",
        "#split_wav.split_multiple_files(folder, export_folder, min_per_split)"
      ],
      "metadata": {
        "colab": {
          "base_uri": "https://localhost:8080/"
        },
        "id": "am43njyDdzr6",
        "outputId": "91e6352b-1ab9-42d1-dbbe-4842d86deab8"
      },
      "execution_count": null,
      "outputs": [
        {
          "output_type": "stream",
          "name": "stdout",
          "text": [
            "Found files: \n",
            "BaF1.1055H.1678278701.180827.3.35.wav\n",
            "BaF1.1230H.1678278701.180827.3.35.wav\n",
            "Now splitting: BaF1.1055H.1678278701.180827.3.35.wav\n",
            "Creating: BaF1.1055H.1678278701.180827.NT1055.wav\n",
            "Creating: BaF1.1055H.1678278701.180827.NT1056.wav\n",
            "Creating: BaF1.1055H.1678278701.180827.NT1057.wav\n",
            "Creating: BaF1.1055H.1678278701.180827.NT1058.wav\n",
            "Creating: BaF1.1055H.1678278701.180827.NT1059.wav\n",
            "Creating: BaF1.1055H.1678278701.180827.NT1100.wav\n",
            "Creating: BaF1.1055H.1678278701.180827.NT1101.wav\n",
            "Creating: BaF1.1055H.1678278701.180827.NT1102.wav\n",
            "Creating: BaF1.1055H.1678278701.180827.NT1103.wav\n",
            "Creating: BaF1.1055H.1678278701.180827.NT1104.wav\n",
            "Splits completed successfully\n",
            "Now splitting: BaF1.1230H.1678278701.180827.3.35.wav\n",
            "Creating: BaF1.1230H.1678278701.180827.NT1230.wav\n",
            "Creating: BaF1.1230H.1678278701.180827.NT1231.wav\n",
            "Creating: BaF1.1230H.1678278701.180827.NT1232.wav\n",
            "Creating: BaF1.1230H.1678278701.180827.NT1233.wav\n",
            "Creating: BaF1.1230H.1678278701.180827.NT1234.wav\n",
            "Creating: BaF1.1230H.1678278701.180827.NT1235.wav\n",
            "Creating: BaF1.1230H.1678278701.180827.NT1236.wav\n",
            "Creating: BaF1.1230H.1678278701.180827.NT1237.wav\n",
            "Creating: BaF1.1230H.1678278701.180827.NT1238.wav\n",
            "Creating: BaF1.1230H.1678278701.180827.NT1239.wav\n",
            "Splits completed successfully\n"
          ]
        }
      ]
    },
    {
      "cell_type": "markdown",
      "source": [
        "# Use the Soundtrap naming convention"
      ],
      "metadata": {
        "id": "GiX57ZW2wqPa"
      }
    },
    {
      "cell_type": "code",
      "source": [
        "#Soundtrap naming convention\n",
        "\n",
        "\n",
        "class SplitWavAudioMubin():\n",
        "  \"\"\"This class contains functions to split soundtrap .wav files with into seperate files\n",
        "  e.g turn 1hr into 60*1min files. It uses the time held within the original files name \n",
        "  to name the new files accordings.\n",
        "  \n",
        "  Input:\n",
        "  folder = path to the folder with the file to be split\n",
        "  file = the file within the folder to split\n",
        "  export_folder = the folder where the new files will be exported\"\"\"\n",
        "\n",
        "  def __init__(self, folder, filename, export_folder):\n",
        "        self.folder = folder\n",
        "        self.filename = filename\n",
        "        self.export_folder = export_folder\n",
        "        self.filepath = folder + '/' + filename\n",
        "        self.audio = AudioSegment.from_wav(self.filepath)\n",
        "    \n",
        "  def get_duration(self):\n",
        "        return self.audio.duration_seconds\n",
        "    \n",
        "  def single_split(self, from_min, to_min, split_filename):\n",
        "        t1 = from_min * 60 * 1000\n",
        "        t2 = to_min * 60 * 1000\n",
        "        split_audio = self.audio[t1:t2]\n",
        "        split_audio.export(self.export_folder + '/' + split_filename, format=\"wav\")   #change self.folder to self.export_folder\n",
        "        \n",
        "  def multiple_split(self, min_per_split):\n",
        "        if self.folder == self.export_folder:\n",
        "          print('Export folder must be different to folder')\n",
        "          return None\n",
        "        else:\n",
        "          total_mins = math.ceil(self.get_duration() / 60)\n",
        "          for i in range(0, total_mins, min_per_split):\n",
        "              #Tims naming convention\n",
        "              #filename = 'BaF1.1055H.1678278701.180827.3.35.wav'\n",
        "              #The hour and mins were moved to start and then some stuff added at end, fixing this so each new file is the old name, \n",
        "              #showing start time at end (e.g 1055), and new name is this + T + i mins at the end, so if i = 7 it becomes T1102 at end\n",
        "              \n",
        "              #rip timestamp from soundtrap file\n",
        "              t = self.filename[-16:-4:]\n",
        "\n",
        "              #Get the hour and min of new start time\n",
        "              original_file_start_time = pd.to_datetime(t, format='%y%m%d%H%M%S')\n",
        "              new_file_start_time = (original_file_start_time + timedelta(minutes=i)).strftime('%y%m%d%H%M%S')\n",
        "              new_name = str(self.filename[:len(self.filename) - 16]) + str(new_file_start_time)\n",
        "              print('Creating: ' + new_name)\n",
        "\n",
        "              #execute the single_function\n",
        "              self.single_split(i, i+min_per_split, new_name)    \n",
        "              if i == total_mins - min_per_split:\n",
        "                  print('Splits completed successfully')\n",
        "\n",
        "\n",
        "\n",
        "\n",
        "#Added an additional function to execute the above class on multiple files ina folder\n",
        " #Should probably integrate this into the class but have not done yet\n",
        "def split_multiple_files(folder, export_folder, min_per_split):\n",
        "  \"split all files in a folder into 1min chunks in a different folder\"\n",
        "  print('Found files: ')\n",
        "  os.chdir(folder)\n",
        "  for file in glob.glob(\"*.wav\"):\n",
        "    print(file)\n",
        "  for file in glob.glob(\"*.wav\"):\n",
        "    print('Now splitting: ' + file)\n",
        "    split_wav = SplitWavAudioMubin(folder, file, export_folder)\n",
        "    split_wav.multiple_split(min_per_split=min_per_split)\n"
      ],
      "metadata": {
        "id": "32P0CyfNnFoG"
      },
      "execution_count": null,
      "outputs": []
    },
    {
      "cell_type": "markdown",
      "source": [
        "# Run the code on all files in a folder"
      ],
      "metadata": {
        "id": "l_9iiro8XhQC"
      }
    },
    {
      "cell_type": "code",
      "source": [
        "#run the code on all files in a folder\n",
        "\n",
        "folder = r'/content/drive/MyDrive/More audio/soundtrap_naming_convention' #change\n",
        "export_folder = r'/content/drive/MyDrive/More audio/soundtrap_naming_convention/export_folder' #change\n",
        "min_per_split = 1\n",
        "split_multiple_files(folder, export_folder, min_per_split)\n",
        "\n",
        "#split_wav = SplitWavAudioMubin(folder, file, export_folder)\n",
        "#split_wav.split_multiple_files(folder, export_folder, min_per_split)"
      ],
      "metadata": {
        "colab": {
          "base_uri": "https://localhost:8080/"
        },
        "id": "EgcXRIWrpvJA",
        "outputId": "43f90d54-c7be-467c-dce0-3bfa54c12c2e"
      },
      "execution_count": null,
      "outputs": [
        {
          "output_type": "stream",
          "name": "stdout",
          "text": [
            "Found files: \n",
            "805322778.181023124723.wav\n",
            "805322778.181031235823.wav\n",
            "Now splitting: 805322778.181023124723.wav\n",
            "Creating: 805322778.181023124723\n",
            "Creating: 805322778.181023124823\n",
            "Creating: 805322778.181023124923\n",
            "Creating: 805322778.181023125023\n",
            "Creating: 805322778.181023125123\n",
            "Creating: 805322778.181023125223\n",
            "Creating: 805322778.181023125323\n",
            "Creating: 805322778.181023125423\n",
            "Creating: 805322778.181023125523\n",
            "Creating: 805322778.181023125623\n",
            "Splits completed successfully\n",
            "Now splitting: 805322778.181031235823.wav\n",
            "Creating: 805322778.181031235823\n",
            "Creating: 805322778.181031235923\n",
            "Creating: 805322778.181101000023\n",
            "Creating: 805322778.181101000123\n",
            "Creating: 805322778.181101000223\n",
            "Creating: 805322778.181101000323\n",
            "Creating: 805322778.181101000423\n",
            "Creating: 805322778.181101000523\n",
            "Creating: 805322778.181101000623\n",
            "Creating: 805322778.181101000723\n",
            "Splits completed successfully\n"
          ]
        }
      ]
    }
  ]
}