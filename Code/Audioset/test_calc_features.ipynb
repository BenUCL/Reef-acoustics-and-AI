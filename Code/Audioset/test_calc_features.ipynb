{
 "cells": [
  {
   "cell_type": "code",
   "execution_count": null,
   "metadata": {},
   "outputs": [],
   "source": [
    "### Change the paths to the folders where tou have saved the below\n",
    "\n",
    "# Path to the location where your audio file are stored:\n",
    "audio_dir = r'/content/drive/MyDrive/Reef soundscapes with AI/audio_dir' \n",
    "\n",
    "# Path to folder containing vggish setup files and 'AudiosetAnalysis' downloaded from sarebs supplementary\n",
    "vggish_files = r'/content/drive/MyDrive/Reef soundscapes with AI/Audioset' \n",
    "\n",
    "# Output folder for results:\n",
    "output_folder = r'/content/drive/MyDrive/Reef soundscapes with AI/Results' "
   ]
  },
  {
   "cell_type": "code",
   "execution_count": null,
   "metadata": {},
   "outputs": [],
   "source": [
    "### imports\n",
    "import os\n",
    "\n",
    "#Navigate to the folder containing setup files, including AudiosetAnalysis downloaded from sarebs supplementary\n",
    "os.chdir(vggish_files) \n",
    "\n",
    "#import packages/modules\n",
    "from AudiosetAnalysis import AudiosetAnalysis\n",
    "import pandas as pd\n",
    "\n",
    "# may be some redundant imports\n",
    "from datetime import datetime\n",
    "from datetime import timedelta\n",
    "from datetime import time\n",
    "from time import strftime\n",
    "import time"
   ]
  },
  {
   "cell_type": "code",
   "execution_count": null,
   "metadata": {},
   "outputs": [],
   "source": [
    "#Check how many files are in the directory:\n",
    "os.chdir(audio_dir)\n",
    "print(len([name for name in os.listdir('.') if os.path.isfile(name)]))"
   ]
  },
  {
   "cell_type": "code",
   "execution_count": null,
   "metadata": {},
   "outputs": [],
   "source": [
    "# start audioset session - run this once per session only!\n",
    "an = AudiosetAnalysis()\n",
    "an.setup()"
   ]
  },
  {
   "cell_type": "code",
   "execution_count": null,
   "metadata": {},
   "outputs": [],
   "source": [
    "#select files\n",
    "all_fs = os.listdir(audio_dir) #list of all files in directory\n",
    "audio_fs = [f for f in all_fs if '.wav' in f.lower() or '.mp3' in f.lower()] #list of all audio files in dir: .wav or .mps\n",
    "\n",
    "#initiate empty dataframes to save results\n",
    "results_df_1sec = pd.DataFrame()\n",
    "results_df_1min = pd.DataFrame() \n",
    "\n",
    "# Feature extraction loop\n",
    "for f in audio_fs:\n",
    "    \"\"\"This loop takes the current filename, rips the timestamp, appends the corresponding length of time being analysed\n",
    "    additively to a new name, calculates VGGish features from each 0.96s chunk, averages these for each 1min file and saves \n",
    "    the results to a csv in your GDrive\"\"\"\n",
    "    path = os.path.join(audio_dir, f)\n",
    "    print(f) #print file name\n",
    "    \n",
    "    #extract timestamp from filename - adjust this if using your own naming convention\n",
    "    t2 = f.split(\".\")[1][0:4]\n",
    "    t1 = f.split(\".\")[3]\n",
    "    t = t1+t2+'00'\n",
    "    recording_start_time = pd.to_datetime(t, format='%y%m%d%H%M%S') \n",
    "    slice_time = recording_start_time - timedelta(milliseconds=960)\n",
    "    mean_slice_time = recording_start_time - timedelta(minutes=1)\n",
    "    \n",
    "    #calculate feature values\n",
    "    results = an.analyse_audio(path)\n",
    "    \n",
    "    # Uncomment to save results by the second as well as minute:\n",
    "    # r1sec = results['raw_audioset_feats_960ms']\n",
    "    # for count, r1sec in enumerate(r1sec):\n",
    "    #     slice_time = slice_time + timedelta(milliseconds=960)\n",
    "    #     string_time = slice_time.strftime('%H.%M.%S.%f')[:-4]\n",
    "    #     result_name = f[:-4] + 'T' + string_time + '.wav'\n",
    "    #     #result_name = f[:-4]+'T'+str(count+1)+'.wav' #use this line if not using ST timestamped files\n",
    "    #     results_df_1sec[result_name] = pd.Series(results['raw_audioset_feats_960ms'][count])\n",
    "    \n",
    "    #Save 1min results:\n",
    "    r1min = results['raw_audioset_feats_59520ms']\n",
    "    for count, r1min in enumerate(r1min):\n",
    "        #store the timestamp\n",
    "        mean_slice_time = mean_slice_time + timedelta(minutes=1)\n",
    "        string_time = mean_slice_time.strftime('%H.%M.%S.%f')[:-4]\n",
    "        result_name = f[:-4] + 'T' + string_time + '.wav'\n",
    "        #result_name = f[:-4]+'T'+str(count+1)+'.wav' #use this line if not using ST timestamped files\n",
    "        results_df_1min[result_name] = pd.Series(results['raw_audioset_feats_59520ms'][count])\n",
    "\n",
    "\n",
    "#save a timestamped csv with 1min results\n",
    "now = datetime.now()\n",
    "time_now = now.strftime(\"%H.%M.%S\")\n",
    "results_df_1min.to_csv(output_folder + '/1min_pretrained_CNN_features_' + time_now + '.csv')\n",
    "results_df_1sec.to_csv(output_folder + '/1sec_pretrained_CNN_features_' + time_now + '.csv')"
   ]
  }
 ],
 "metadata": {
  "language_info": {
   "name": "python"
  },
  "orig_nbformat": 4
 },
 "nbformat": 4,
 "nbformat_minor": 2
}
